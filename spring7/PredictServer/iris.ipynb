{
  "nbformat": 4,
  "nbformat_minor": 0,
  "metadata": {
    "colab": {
      "provenance": []
    },
    "kernelspec": {
      "name": "python3",
      "display_name": "Python 3"
    },
    "language_info": {
      "name": "python"
    }
  },
  "cells": [
    {
      "cell_type": "code",
      "execution_count": 12,
      "metadata": {
        "colab": {
          "base_uri": "https://localhost:8080/"
        },
        "id": "CaGkBfuCW_mb",
        "outputId": "41efdfe3-b07f-4739-d337-329acf1d64d8"
      },
      "outputs": [
        {
          "output_type": "stream",
          "name": "stderr",
          "text": [
            "/usr/local/lib/python3.10/dist-packages/sklearn/base.py:439: UserWarning: X does not have valid feature names, but KNeighborsClassifier was fitted with feature names\n",
            "  warnings.warn(\n"
          ]
        }
      ],
      "source": [
        "# package import\n",
        "import pandas as pd\n",
        "import pickle\n",
        "\n",
        "from sklearn.datasets import load_iris\n",
        "from sklearn.neighbors import KNeighborsClassifier\n",
        "from sklearn.model_selection import train_test_split\n",
        "\n",
        "# 데이터 불러오기\n",
        "iris = load_iris()\n",
        "\n",
        "# DF로 만들기\n",
        "iris_df = pd.DataFrame(iris['data'], columns=iris['feature_names'])\n",
        "target = iris['target_names']\n",
        "\n",
        "# 문제와 답\n",
        "X = iris_df\n",
        "y = iris['target']\n",
        "\n",
        "X_train, X_test, y_train, y_test = train_test_split(X,\n",
        "                                                    y,\n",
        "                                                    test_size=0.3,\n",
        "                                                    random_state=1)\n",
        "# model\n",
        "knn_model = KNeighborsClassifier()\n",
        "KNeighborsClassifier(n_neighbors=3)\n",
        "\n",
        "knn_model.fit(X_train, y_train)\n",
        "\n",
        "# 예측하기\n",
        "knn_model.predict(X_test)\n",
        "\n",
        "# print(knn_model.score(X_test, y_test))\n",
        "\n",
        "# 데이터 입력하여 결과 확인 ==> 5.1  3.5 1.4 0.2   ==> 0번(세토사??)\n",
        "pred = knn_model.predict([[5.1, 3.5, 1.4,0.2]])\n",
        "# print('결과:', target[pred[0]])\n",
        "\n",
        "# 피클파일로 저장\n",
        "with open('data.pickle', 'wb') as f:\n",
        "    pickle.dump(knn_model, f, pickle.HIGHEST_PROTOCOL)"
      ]
    }
  ]
}