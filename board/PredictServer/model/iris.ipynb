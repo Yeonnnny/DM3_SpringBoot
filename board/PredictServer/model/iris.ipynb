{
 "cells": [
  {
   "cell_type": "markdown",
   "metadata": {},
   "source": [
    "# package import"
   ]
  },
  {
   "cell_type": "code",
   "execution_count": 1,
   "metadata": {},
   "outputs": [],
   "source": [
    "\n",
    "import pandas as pd\n",
    "import pickle\n",
    "\n",
    "from sklearn.datasets import load_iris\n",
    "from sklearn.neighbors import KNeighborsClassifier\n",
    "from sklearn.model_selection import train_test_split\n"
   ]
  },
  {
   "cell_type": "markdown",
   "metadata": {},
   "source": [
    "# KNN 모델"
   ]
  },
  {
   "cell_type": "code",
   "execution_count": 7,
   "metadata": {},
   "outputs": [
    {
     "name": "stdout",
     "output_type": "stream",
     "text": [
      "결과: setosa\n"
     ]
    },
    {
     "name": "stderr",
     "output_type": "stream",
     "text": [
      "C:\\Users\\user\\AppData\\Local\\Packages\\PythonSoftwareFoundation.Python.3.11_qbz5n2kfra8p0\\LocalCache\\local-packages\\Python311\\site-packages\\sklearn\\base.py:439: UserWarning: X does not have valid feature names, but KNeighborsClassifier was fitted with feature names\n",
      "  warnings.warn(\n"
     ]
    },
    {
     "data": {
      "text/plain": [
       "sepal length (cm)    7.0\n",
       "sepal width (cm)     3.2\n",
       "petal length (cm)    4.7\n",
       "petal width (cm)     1.4\n",
       "Name: 50, dtype: float64"
      ]
     },
     "metadata": {},
     "output_type": "display_data"
    },
    {
     "data": {
      "text/plain": [
       "1"
      ]
     },
     "metadata": {},
     "output_type": "display_data"
    }
   ],
   "source": [
    "# 데이터 불러오기\n",
    "iris = load_iris()\n",
    "\n",
    "#df로 만들기\n",
    "iris_df = pd.DataFrame(iris['data'], columns=iris['feature_names'])\n",
    "target = iris['target_names'] # target 이름 리스트\n",
    "\n",
    "# display(iris_df)\n",
    "# display(target)\n",
    "\n",
    "# 문제와 답\n",
    "X=  iris_df\n",
    "y = iris['target']\n",
    "\n",
    "#  데이터 분리\n",
    "X_train, X_test, y_train, y_test = train_test_split(X,y,test_size=0.3,random_state=1)\n",
    "\n",
    "\n",
    "# model 생성\n",
    "knn = KNeighborsClassifier(n_neighbors=3)\n",
    "knn.fit(X_train,y_train)\n",
    "\n",
    "\n",
    "# 예측하기\n",
    "knn.predict(X_test)\n",
    "# print(knn.score(X_test, y_test))\n",
    "\n",
    "# 데이터 입력하여 결과 확인 ==> 5.1\t3.5\t1.4\t0.2 -> setosa\n",
    "pred = knn.predict([[5.1,3.5,1.4,0.2]])\n",
    "print(\"결과:\", target[pred[0]])\n",
    "\n",
    "display(iris_df.iloc[50])\n",
    "display(iris['target'][50])\n",
    "\n",
    "# # 피클 파일로 저장\n",
    "# with open('data.pickle','wb') as f:\n",
    "#     pickle.dump(knn,f,pickle.HIGHEST_PROTOCOL)"
   ]
  }
 ],
 "metadata": {
  "kernelspec": {
   "display_name": "Python 3",
   "language": "python",
   "name": "python3"
  },
  "language_info": {
   "codemirror_mode": {
    "name": "ipython",
    "version": 3
   },
   "file_extension": ".py",
   "mimetype": "text/x-python",
   "name": "python",
   "nbconvert_exporter": "python",
   "pygments_lexer": "ipython3",
   "version": "3.11.8"
  }
 },
 "nbformat": 4,
 "nbformat_minor": 2
}
